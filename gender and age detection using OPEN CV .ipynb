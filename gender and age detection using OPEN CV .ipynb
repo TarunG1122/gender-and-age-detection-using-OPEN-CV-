{
 "cells": [
  {
   "cell_type": "code",
   "execution_count": 7,
   "id": "220ce4ae",
   "metadata": {},
   "outputs": [],
   "source": [
    "import cv2\n",
    "\n",
    "\n",
    "def facebox(faceNet,frame):\n",
    "    frameheight = frame.shape[0]\n",
    "    framewidth = frame.shape[1]\n",
    "    blob = cv2.dnn.blobFromImage(frame,1.0,(227,277),[104,117,123],swapRB = False)\n",
    "    faceNet.setInput(blob)\n",
    "    detection = faceNet.forward()\n",
    "    bboxs = []\n",
    "    for i in range(detection.shape[2]):\n",
    "        confidence = detection[0,0,i,2]\n",
    "        if confidence > 0.7:\n",
    "            x1 = int(detection[0,0,i,3]*framewidth)\n",
    "            y1 = int(detection[0,0,i,4]*frameheight)\n",
    "            x2 = int(detection[0,0,i,5]*framewidth)\n",
    "            y2 = int(detection[0,0,i,6]*frameheight)\n",
    "            bboxs.append([x1,y1,x2,y2])\n",
    "            cv2.rectangle(frame,(x1,y1),(x2,y2),(0,255,0),2)\n",
    "                \n",
    "        \n",
    "    return frame, bboxs"
   ]
  },
  {
   "cell_type": "code",
   "execution_count": 8,
   "id": "3bc5711f",
   "metadata": {},
   "outputs": [],
   "source": [
    "faceProto = \"C:\\\\Users\\\\tarun\\\\Desktop\\\\face and age\\\\opencv_face_detector.pbtxt\"\n",
    "faceModel = \"C:\\\\Users\\\\tarun\\\\Desktop\\\\face and age\\\\opencv_face_detector_uint8.pb\"\n",
    "\n",
    "ageProto = \"C:\\\\Users\\\\tarun\\\\Desktop\\\\face and age\\\\age_deploy.prototxt\"\n",
    "ageModel = \"C:\\\\Users\\\\tarun\\\\Desktop\\\\face and age\\\\age_net.caffemodel\"\n",
    "\n",
    "genderProto = \"C:\\\\Users\\\\tarun\\\\Desktop\\\\face and age\\\\gender_deploy.prototxt\"\n",
    "genderModel = \"C:\\\\Users\\\\tarun\\\\Desktop\\\\face and age\\\\gender_net.caffemodel\"\n",
    "\n",
    "faceNet = cv2.dnn.readNet(faceModel,faceProto)\n",
    "ageNet = cv2.dnn.readNet(ageModel,ageProto)\n",
    "genderNet = cv2.dnn.readNet(genderModel,genderProto)\n",
    "\n",
    "MODEL_MEAN_VALUES = (78.4263377603, 87.7689143744, 114.895847746)\n",
    "ageList = ['(0-2)', '(4-6)', '(8-12)', '(15-20)', '(25-32)', '(38-43)', '(48-53)', '(60-100)']\n",
    "genderList = ['Male', 'Female']\n",
    "\n",
    "# time 23:30"
   ]
  },
  {
   "cell_type": "code",
   "execution_count": null,
   "id": "2908220e",
   "metadata": {},
   "outputs": [],
   "source": []
  },
  {
   "cell_type": "code",
   "execution_count": 9,
   "id": "5f6c0812",
   "metadata": {},
   "outputs": [],
   "source": [
    "video = cv2.VideoCapture(0)\n",
    "\n",
    "padding = 20\n",
    "while True:\n",
    "    ret , frame = video.read()\n",
    "    frame , bboxs = facebox(faceNet,frame)\n",
    "    for bbox in bboxs:\n",
    "        #face = frame[bbox[1]:bbox[3],bbox[0]:bbox[2]]\n",
    "        \n",
    "        face = frame[max(0,bbox[1]-padding):min(bbox[3]+padding,frame.shape[0]-1),max(0,bbox[0]-padding):min(bbox[2]+padding, frame.shape[1]-1)]\n",
    "        blob = cv2.dnn.blobFromImage(face,1.0,(227,227),MODEL_MEAN_VALUES,swapRB = False)\n",
    "        genderNet.setInput(blob)\n",
    "        genderPred = genderNet.forward()\n",
    "        gender = genderList[genderPred[0].argmax()]\n",
    "        \n",
    "        ageNet.setInput(blob)\n",
    "        agepred = ageNet.forward()\n",
    "        age = ageList[agepred[0].argmax()]\n",
    "        \n",
    "        label = \"{},{}\".format(gender,age)\n",
    "        #cv2.rectangle(frame,(bbox[1]-30),(bbox[2],bbox[1]),(0,255,0),-1)\n",
    "        cv2.putText(frame,label,(bbox[0],bbox[1]-10),cv2.FONT_HERSHEY_SIMPLEX,0.8,(255,255,255),2,cv2.LINE_AA)\n",
    "    cv2.imshow(\"age-gender\",frame)\n",
    "    k = cv2.waitKey(1)\n",
    "    if k == ord('q'):\n",
    "        break\n",
    "video.release()\n",
    "cv2.destroyAllWindows()"
   ]
  },
  {
   "cell_type": "code",
   "execution_count": null,
   "id": "d3ef4e2f",
   "metadata": {},
   "outputs": [],
   "source": []
  }
 ],
 "metadata": {
  "kernelspec": {
   "display_name": "Python 3 (ipykernel)",
   "language": "python",
   "name": "python3"
  },
  "language_info": {
   "codemirror_mode": {
    "name": "ipython",
    "version": 3
   },
   "file_extension": ".py",
   "mimetype": "text/x-python",
   "name": "python",
   "nbconvert_exporter": "python",
   "pygments_lexer": "ipython3",
   "version": "3.9.12"
  }
 },
 "nbformat": 4,
 "nbformat_minor": 5
}
